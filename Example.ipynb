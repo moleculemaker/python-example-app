{
 "cells": [
  {
   "cell_type": "markdown",
   "id": "92d45342-0774-448e-9c1c-eb85d18ea0df",
   "metadata": {
    "tags": []
   },
   "source": [
    "## Using Jupyter Notebooks\n",
    "\n",
    "Focus on the Cell below and click Shift + Enter to evalutate it"
   ]
  },
  {
   "cell_type": "code",
   "execution_count": null,
   "id": "1c719765-4768-49c4-b63b-7ecdc93e45fa",
   "metadata": {
    "tags": []
   },
   "outputs": [],
   "source": [
    "print('Hello Jupyter!')"
   ]
  },
  {
   "cell_type": "markdown",
   "id": "486f9f0d-aba6-4611-848a-fbe82f8575a6",
   "metadata": {},
   "source": [
    "You can use Jupyter to run pure Python functions as well using `%run filename.py`"
   ]
  },
  {
   "cell_type": "code",
   "execution_count": null,
   "id": "0dce73b7-b413-48de-bac9-551a55bb2fa6",
   "metadata": {
    "tags": []
   },
   "outputs": [],
   "source": [
    "%run ./app/main.py"
   ]
  },
  {
   "cell_type": "code",
   "execution_count": null,
   "id": "8ea7125d-7d19-44da-92fb-15f410d85e13",
   "metadata": {},
   "outputs": [],
   "source": []
  }
 ],
 "metadata": {
  "kernelspec": {
   "display_name": "Python 3 (ipykernel)",
   "language": "python",
   "name": "python3"
  },
  "language_info": {
   "codemirror_mode": {
    "name": "ipython",
    "version": 3
   },
   "file_extension": ".py",
   "mimetype": "text/x-python",
   "name": "python",
   "nbconvert_exporter": "python",
   "pygments_lexer": "ipython3",
   "version": "3.10.10"
  }
 },
 "nbformat": 4,
 "nbformat_minor": 5
}
